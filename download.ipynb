{
 "cells": [
  {
   "cell_type": "markdown",
   "metadata": {},
   "source": [
    "<h1> Imports <h1>"
   ]
  },
  {
   "cell_type": "code",
   "execution_count": 9,
   "metadata": {},
   "outputs": [
    {
     "data": {
      "text/html": [
       "        <script type=\"text/javascript\">\n",
       "        window.PlotlyConfig = {MathJaxConfig: 'local'};\n",
       "        if (window.MathJax) {MathJax.Hub.Config({SVG: {font: \"STIX-Web\"}});}\n",
       "        if (typeof require !== 'undefined') {\n",
       "        require.undef(\"plotly\");\n",
       "        requirejs.config({\n",
       "            paths: {\n",
       "                'plotly': ['https://cdn.plot.ly/plotly-2.11.1.min']\n",
       "            }\n",
       "        });\n",
       "        require(['plotly'], function(Plotly) {\n",
       "            window._Plotly = Plotly;\n",
       "        });\n",
       "        }\n",
       "        </script>\n",
       "        "
      ]
     },
     "metadata": {},
     "output_type": "display_data"
    },
    {
     "data": {
      "text/html": [
       "        <script type=\"text/javascript\">\n",
       "        window.PlotlyConfig = {MathJaxConfig: 'local'};\n",
       "        if (window.MathJax) {MathJax.Hub.Config({SVG: {font: \"STIX-Web\"}});}\n",
       "        if (typeof require !== 'undefined') {\n",
       "        require.undef(\"plotly\");\n",
       "        requirejs.config({\n",
       "            paths: {\n",
       "                'plotly': ['https://cdn.plot.ly/plotly-2.11.1.min']\n",
       "            }\n",
       "        });\n",
       "        require(['plotly'], function(Plotly) {\n",
       "            window._Plotly = Plotly;\n",
       "        });\n",
       "        }\n",
       "        </script>\n",
       "        "
      ]
     },
     "metadata": {},
     "output_type": "display_data"
    }
   ],
   "source": [
    "import numpy as np\n",
    "import pandas as pd\n",
    "import matplotlib.pyplot as plt\n",
    "import matplotlib.dates as mdates\n",
    "\n",
    "#defining dates\n",
    "import datetime as dt\n",
    "import time\n",
    "\n",
    "#download stock data\n",
    "import yfinance as yf\n",
    "\n",
    "#file handling\n",
    "import os\n",
    "from os import listdir\n",
    "from os.path import isfile, join\n",
    "\n",
    "#additional plotting tools\n",
    "import cufflinks as cf\n",
    "import plotly.express as px\n",
    "import plotly.graph_objects as go\n",
    "\n",
    "#make plotly work in Jupyter notebook\n",
    "from plotly.offline import download_plotlyjs, init_notebook_mode, plot, iplot\n",
    "init_notebook_mode(connected=True)\n",
    "cf.go_offline()\n",
    "\n",
    "from plotly.subplots import make_subplots\n",
    "\n",
    "import warnings\n",
    "warnings.simplefilter(\"ignore\")\n"
   ]
  },
  {
   "cell_type": "markdown",
   "metadata": {},
   "source": [
    "<h1> Constants <h1>"
   ]
  },
  {
   "cell_type": "code",
   "execution_count": 10,
   "metadata": {},
   "outputs": [],
   "source": [
    "PATH = \"./stock_data/\"\n",
    "\n",
    "#Start end date constants\n",
    "S_DATE = \"2017-04-16\"\n",
    "E_DATE = \"2022-04-16\"\n",
    "S_DATE_DT = pd.to_datetime(S_DATE)\n",
    "E_DATE_DT = pd.to_datetime(E_DATE)"
   ]
  },
  {
   "cell_type": "markdown",
   "metadata": {},
   "source": [
    "<h1> Get Column Data from CSV <h1>"
   ]
  },
  {
   "cell_type": "code",
   "execution_count": 11,
   "metadata": {},
   "outputs": [],
   "source": [
    "def get_column_from_csv(file, col_name):\n",
    "    try:\n",
    "        df = pd.read_csv(file)\n",
    "    except FileNotFoundError:\n",
    "        print(\"File Does Not Exist\")\n",
    "    else:\n",
    "        return df[col_name]"
   ]
  },
  {
   "cell_type": "markdown",
   "metadata": {},
   "source": [
    "<h1> Get Stock Tickers <h1>"
   ]
  },
  {
   "cell_type": "code",
   "execution_count": 12,
   "metadata": {},
   "outputs": [
    {
     "name": "stdout",
     "output_type": "stream",
     "text": [
      "3481\n"
     ]
    }
   ],
   "source": [
    "#data = pd.read_csv('https://raw.githubusercontent.com/derekbanas/Python4Finance/main/Wilshire-5000-Stocks-New.csv')\n",
    "tickers = get_column_from_csv(\"https://raw.githubusercontent.com/derekbanas/Python4Finance/main/Wilshire-5000-Stocks-New.csv\", \"Ticker\")\n",
    "print(len(tickers))"
   ]
  },
  {
   "cell_type": "markdown",
   "metadata": {},
   "source": [
    "<h1> Save Stock Data to CSV <h1>"
   ]
  },
  {
   "cell_type": "code",
   "execution_count": 13,
   "metadata": {},
   "outputs": [],
   "source": [
    "def save_to_csv_from_yahoo(folder, ticker):\n",
    "    stock = yf.Ticker(ticker)\n",
    "\n",
    "    try:\n",
    "        print(\"Get Data for : \", ticker)\n",
    "        #Get historical 5 year data\n",
    "        df = stock.history(period=\"5y\")\n",
    "\n",
    "        #Timer\n",
    "        time.sleep(2)\n",
    "\n",
    "        #remove period in file name and save data into a CSV file\n",
    "        the_file = folder + ticker.replace(\".\", \"_\") + '.csv'\n",
    "        print(the_file, \"Saved\")\n",
    "        df.to_csv(the_file)\n",
    "    except Exception as ex:\n",
    "        print(\"Couldn't Get Data for :\", ticker)"
   ]
  },
  {
   "cell_type": "markdown",
   "metadata": {},
   "source": [
    "<h1> Download All Stocks (4/16/17 - 4/16/22) <h1>"
   ]
  },
  {
   "cell_type": "code",
   "execution_count": 15,
   "metadata": {},
   "outputs": [
    {
     "name": "stdout",
     "output_type": "stream",
     "text": [
      "Get Data for :  SPY\n",
      "./stock_data/SPY.csv Saved\n",
      "Finished\n"
     ]
    }
   ],
   "source": [
    "#for x in range(0,3481):\n",
    "    #using first 100 for sample, 3481 actual size\n",
    "    #save_to_csv_from_yahoo(PATH, tickers[x])\n",
    "save_to_csv_from_yahoo(PATH, 'SPY')\n",
    "print(\"Finished\")"
   ]
  }
 ],
 "metadata": {
  "interpreter": {
   "hash": "95956ee78dd9757b5e43b6b2b0b03d2f1188489a1568c3d3437991c21be1cf75"
  },
  "kernelspec": {
   "display_name": "Python 3.10.4 64-bit (windows store)",
   "language": "python",
   "name": "python3"
  },
  "language_info": {
   "codemirror_mode": {
    "name": "ipython",
    "version": 3
   },
   "file_extension": ".py",
   "mimetype": "text/x-python",
   "name": "python",
   "nbconvert_exporter": "python",
   "pygments_lexer": "ipython3",
   "version": "3.10.4"
  },
  "orig_nbformat": 4
 },
 "nbformat": 4,
 "nbformat_minor": 2
}
