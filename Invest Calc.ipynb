{
 "cells": [
  {
   "cell_type": "markdown",
   "metadata": {},
   "source": [
    "<h1> Imports <h1>"
   ]
  },
  {
   "cell_type": "code",
   "execution_count": 33,
   "metadata": {},
   "outputs": [
    {
     "data": {
      "text/html": [
       "        <script type=\"text/javascript\">\n",
       "        window.PlotlyConfig = {MathJaxConfig: 'local'};\n",
       "        if (window.MathJax) {MathJax.Hub.Config({SVG: {font: \"STIX-Web\"}});}\n",
       "        if (typeof require !== 'undefined') {\n",
       "        require.undef(\"plotly\");\n",
       "        requirejs.config({\n",
       "            paths: {\n",
       "                'plotly': ['https://cdn.plot.ly/plotly-2.11.1.min']\n",
       "            }\n",
       "        });\n",
       "        require(['plotly'], function(Plotly) {\n",
       "            window._Plotly = Plotly;\n",
       "        });\n",
       "        }\n",
       "        </script>\n",
       "        "
      ]
     },
     "metadata": {},
     "output_type": "display_data"
    },
    {
     "data": {
      "text/html": [
       "        <script type=\"text/javascript\">\n",
       "        window.PlotlyConfig = {MathJaxConfig: 'local'};\n",
       "        if (window.MathJax) {MathJax.Hub.Config({SVG: {font: \"STIX-Web\"}});}\n",
       "        if (typeof require !== 'undefined') {\n",
       "        require.undef(\"plotly\");\n",
       "        requirejs.config({\n",
       "            paths: {\n",
       "                'plotly': ['https://cdn.plot.ly/plotly-2.11.1.min']\n",
       "            }\n",
       "        });\n",
       "        require(['plotly'], function(Plotly) {\n",
       "            window._Plotly = Plotly;\n",
       "        });\n",
       "        }\n",
       "        </script>\n",
       "        "
      ]
     },
     "metadata": {},
     "output_type": "display_data"
    }
   ],
   "source": [
    "import numpy as np\n",
    "import pandas as pd\n",
    "import matplotlib.pyplot as plt\n",
    "import matplotlib.dates as mdates\n",
    "\n",
    "#defining dates\n",
    "import datetime as dt\n",
    "import time\n",
    "\n",
    "#download stock data\n",
    "import yfinance as yf\n",
    "\n",
    "#file handling\n",
    "import os\n",
    "from os import listdir\n",
    "from os.path import isfile, join\n",
    "\n",
    "#additional plotting tools\n",
    "import cufflinks as cf\n",
    "import plotly.express as px\n",
    "import plotly.graph_objects as go\n",
    "\n",
    "#make plotly work in Jupyter notebook\n",
    "from plotly.offline import download_plotlyjs, init_notebook_mode, plot, iplot\n",
    "init_notebook_mode(connected=True)\n",
    "cf.go_offline()\n",
    "\n",
    "from plotly.subplots import make_subplots\n",
    "\n",
    "import warnings\n",
    "warnings.simplefilter(\"ignore\")\n"
   ]
  },
  {
   "cell_type": "markdown",
   "metadata": {},
   "source": [
    "<h1> Constants <h1>"
   ]
  },
  {
   "cell_type": "code",
   "execution_count": 34,
   "metadata": {},
   "outputs": [],
   "source": [
    "PATH = \"./stock_data/\"\n",
    "\n",
    "#Start end date constants\n",
    "S_DATE = \"2017-04-16\"\n",
    "E_DATE = \"2022-04-16\"\n",
    "S_DATE_DT = pd.to_datetime(S_DATE)\n",
    "E_DATE_DT = pd.to_datetime(E_DATE)"
   ]
  },
  {
   "cell_type": "markdown",
   "metadata": {},
   "source": [
    "<h1> Get Dataframe from CSV <h1>"
   ]
  },
  {
   "cell_type": "code",
   "execution_count": 35,
   "metadata": {},
   "outputs": [],
   "source": [
    "def get_stock_df_from_csv(ticker):\n",
    "    try:\n",
    "        df = pd.read_csv(PATH + ticker + '.csv', index_col = 0)\n",
    "    except FileNotFoundError:\n",
    "        print(\"File Doesn't exist\")\n",
    "    else:\n",
    "        return df\n"
   ]
  },
  {
   "cell_type": "markdown",
   "metadata": {},
   "source": [
    "<h1> Get all Stocks Downloaded in List <h1>"
   ]
  },
  {
   "cell_type": "code",
   "execution_count": 36,
   "metadata": {},
   "outputs": [
    {
     "data": {
      "text/plain": [
       "795"
      ]
     },
     "execution_count": 36,
     "metadata": {},
     "output_type": "execute_result"
    }
   ],
   "source": [
    "files = [x for x in listdir(PATH) if isfile(join(PATH, x))]\n",
    "tickers = [os.path.splitext(x)[0] for x in files]\n",
    "#tickers\n",
    "\n",
    "tickers.sort()\n",
    "len(tickers)\n"
   ]
  },
  {
   "cell_type": "markdown",
   "metadata": {},
   "source": [
    "<h1> Add Daily Returns <h1>"
   ]
  },
  {
   "cell_type": "code",
   "execution_count": 37,
   "metadata": {},
   "outputs": [],
   "source": [
    "#caluclate price changes for everyday\n",
    "def add_daily_return_to_df(df):\n",
    "    #add new column to df\n",
    "    df['daily_return'] = (df['Close'] / df['Close'].shift(1)) -1\n",
    "    #df.to_csv(PATH + ticker + '.csv')\n",
    "    return df"
   ]
  },
  {
   "cell_type": "markdown",
   "metadata": {},
   "source": [
    "<h1> Add Cumulative Returns <h1>"
   ]
  },
  {
   "cell_type": "code",
   "execution_count": 38,
   "metadata": {},
   "outputs": [],
   "source": [
    "#calculate cumulative price changes\n",
    "def add_cum_return_to_df(df):\n",
    "    #add new column to df\n",
    "    df['cum_return'] = (1+df['daily_return']).cumprod()\n",
    "    #df.to_csv(PATH + ticker + '.csv')\n",
    "    return df"
   ]
  },
  {
   "cell_type": "markdown",
   "metadata": {},
   "source": [
    "# Add Bollinger Bands "
   ]
  },
  {
   "cell_type": "markdown",
   "metadata": {},
   "source": [
    "<p> A Bollinger Band is a technical analysis tool defined by a set of trendlines plotted two standard deviations away form a simple moving average of a security's price. There are three lines that compose the Bollinger Bands: A SMA (middle) and an upper and lower band. The upper and lower bands are typically 2 standard deviations from a 20-day SMA. <p>\n",
    "\n",
    "<p> The closer the price moves to the upper band, the more overbought the market is, and the closer the price moves toward the lower band, the more oversold the market. The tightening and broadening of the bands suggest a measure of stability and more volatility respectively. A strong trend or break is suggested if the prices moves outside of the bands. If the bands squeeze the SMA, it is believed a volatile move will be made soon <P>"
   ]
  },
  {
   "cell_type": "code",
   "execution_count": 39,
   "metadata": {},
   "outputs": [],
   "source": [
    "def add_bollinger_bands(df):\n",
    "    df['moving_average'] = df['Close'].rolling(window=20).mean()\n",
    "    #Utilizing 1.96 because that is two standard deviations away\n",
    "    df['upper_band'] = df['moving_average'] + 1.96 * df['Close'].rolling(window=20).std()\n",
    "    df['lower_band'] = df['moving_average'] - 1.96 * df['Close'].rolling(window=20).std()\n",
    "    #df.to_csv(PATH + ticker + '.csv')\n",
    "    return df"
   ]
  },
  {
   "cell_type": "markdown",
   "metadata": {},
   "source": [
    "<h1> Add Ichimoku Data to Dataframe <h1>"
   ]
  },
  {
   "cell_type": "markdown",
   "metadata": {},
   "source": [
    "The Ichimoku (One Look) is considered an all in one indicator that shows support and resistance levels, as well as momentum and trend direction. It computes a \"cloud\" that attempts to forecast where the price may find support or resistance. The Ichimoku Cloud comprises of 5 lines:\n",
    "* Conversion Line (Tenkan-sen): Nine-period average - Represents support, resistance, and reversals. Used for short term action\n",
    "* Baseline (Kijun-sen): 26-period average - Represents support, resistance, and confirms trend changes. Used to evaluate medium term trends. Called the baseline because it lags the price.\n",
    "* Leading Span A (Senkou A): Average of the Conversion and Base Value over 26 period - Identify future areas of support and resistance\n",
    "* Leading Span B (Senkou B): Average of Conversion and Base Line over 52 period - Identify future support and resistance\n",
    "* Lagging Span (Chikou): Lagging closing price - Price shifted back 26 periods. Shows possible support and resistance\n",
    "* Cloud (Kumo): Space between Span A and B. Represents the divergence in price evolution\n",
    "\n",
    "When price is above the cloud, the trend is bullish and vice versa. The trend is strengthened if the cloud is moving in the same direction as the price. "
   ]
  },
  {
   "cell_type": "code",
   "execution_count": 40,
   "metadata": {},
   "outputs": [],
   "source": [
    "def add_Ichimoku(df):\n",
    "    #Conversion Line (Highest Value in period + Lowest)/2 in 9 sessions\n",
    "    high_value = df['High'].rolling(window=9).max()\n",
    "    low_value = df['Low'].rolling(window=9).min()\n",
    "    df['Conversion'] = (high_value + low_value)/2\n",
    "\n",
    "    #Base Line (Highest Value in Period + Lowest)/2 over 26 sessions\n",
    "    base_high = df['High'].rolling(window=26).max()\n",
    "    base_low = df['Low'].rolling(window=26).min()\n",
    "    df['Baseline'] = (base_high + base_low)/2\n",
    "\n",
    "    #Span A (Conversion Value + Base Value)/2 over 26 sessions\n",
    "    df['SpanA'] = ((df['Conversion'] + df['Baseline']) / 2).shift(26)\n",
    "\n",
    "    #Span B (Conversion Value + Base Value)/2 over 52 sessions\n",
    "    spanB_high = df['High'].rolling(window=52).max()\n",
    "    spanB_low = df['Low'].rolling(window=52).min()\n",
    "    df['SpanB'] = ((spanB_high + spanB_low) / 2).shift(26)\n",
    "\n",
    "    #Lagging Span (Price shifted back 26 periods)\n",
    "    df['Lagging'] = df['Close'].shift(-26)\n",
    "    return df"
   ]
  },
  {
   "cell_type": "markdown",
   "metadata": {},
   "source": [
    "# Add Daily, Cumulative, Bollinger Bands, Ichimoku to Dataframes"
   ]
  },
  {
   "cell_type": "code",
   "execution_count": 41,
   "metadata": {},
   "outputs": [
    {
     "name": "stdout",
     "output_type": "stream",
     "text": [
      "Working on : SPY\n"
     ]
    }
   ],
   "source": [
    "# Testing with one ticker\n",
    "# writes calculated Ichimoku values into csv files for each security\n",
    "try:\n",
    "    print(\"Working on :\", \"SPY\")\n",
    "    new_df = get_stock_df_from_csv(\"SPY\")\n",
    "    new_df = add_daily_return_to_df(new_df)\n",
    "    new_df = add_cum_return_to_df(new_df)\n",
    "    new_df = add_bollinger_bands(new_df)\n",
    "    new_df = add_Ichimoku(new_df)\n",
    "    new_df.to_csv(PATH + 'SPY' + '.csv')\n",
    "except Exception as ex:\n",
    "    print(\"ex\")\n",
    "    "
   ]
  },
  {
   "cell_type": "code",
   "execution_count": 42,
   "metadata": {},
   "outputs": [],
   "source": [
    "# for x in tickers:\n",
    "#     try:\n",
    "#         print(\"Working on :\", x)\n",
    "#         new_df = get_stock_df_from_csv(x)\n",
    "#         new_df = add_daily_return_to_df(new_df)\n",
    "#         new_df = add_cum_return_to_df(new_df)\n",
    "#         new_df = add_bollinger_bands(new_df)\n",
    "#         new_df = add_Ichimoku(new_df)\n",
    "#         new_df.to_csv(PATH + x + '.csv')\n",
    "#     except Exception as ex:\n",
    "#         print(\"ex\")"
   ]
  }
 ],
 "metadata": {
  "interpreter": {
   "hash": "95956ee78dd9757b5e43b6b2b0b03d2f1188489a1568c3d3437991c21be1cf75"
  },
  "kernelspec": {
   "display_name": "Python 3.10.4 64-bit (windows store)",
   "language": "python",
   "name": "python3"
  },
  "language_info": {
   "codemirror_mode": {
    "name": "ipython",
    "version": 3
   },
   "file_extension": ".py",
   "mimetype": "text/x-python",
   "name": "python",
   "nbconvert_exporter": "python",
   "pygments_lexer": "ipython3",
   "version": "3.10.4"
  },
  "orig_nbformat": 4
 },
 "nbformat": 4,
 "nbformat_minor": 2
}
